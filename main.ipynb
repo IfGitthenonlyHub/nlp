{
 "cells": [
  {
   "cell_type": "code",
   "execution_count": 1,
   "id": "d6e1bb35",
   "metadata": {},
   "outputs": [],
   "source": [
    "import pandas as pd\n",
    "import torch\n",
    "import torch.nn as nn\n",
    "import torch.optim as optim\n",
    "import torch.nn.functional as F\n",
    "from sklearn.feature_extraction.text import CountVectorizer\n",
    "from sklearn.model_selection import train_test_split\n",
    "from sklearn.preprocessing import LabelEncoder\n",
    "from torch.utils.data import TensorDataset, DataLoader\n",
    "from sklearn.metrics import classification_report, confusion_matrix"
   ]
  },
  {
   "cell_type": "code",
   "execution_count": 2,
   "id": "bf2ab876",
   "metadata": {},
   "outputs": [
    {
     "data": {
      "text/html": [
       "<div>\n",
       "<style scoped>\n",
       "    .dataframe tbody tr th:only-of-type {\n",
       "        vertical-align: middle;\n",
       "    }\n",
       "\n",
       "    .dataframe tbody tr th {\n",
       "        vertical-align: top;\n",
       "    }\n",
       "\n",
       "    .dataframe thead th {\n",
       "        text-align: right;\n",
       "    }\n",
       "</style>\n",
       "<table border=\"1\" class=\"dataframe\">\n",
       "  <thead>\n",
       "    <tr style=\"text-align: right;\">\n",
       "      <th></th>\n",
       "      <th>text</th>\n",
       "      <th>label</th>\n",
       "    </tr>\n",
       "  </thead>\n",
       "  <tbody>\n",
       "    <tr>\n",
       "      <th>0</th>\n",
       "      <td>ສາຍB (ອາຍຸ14 – 17 ປີ ) ,</td>\n",
       "      <td>Lao</td>\n",
       "    </tr>\n",
       "    <tr>\n",
       "      <th>1</th>\n",
       "      <td>ສາຍ C (ອາຍຸ18–25ປີ).</td>\n",
       "      <td>Lao</td>\n",
       "    </tr>\n",
       "    <tr>\n",
       "      <th>2</th>\n",
       "      <td>ໃນເວລາທີ່ພວກເຂົາພົບກັບການວາດພາບທາງເລຂາຄະນິດແບບ...</td>\n",
       "      <td>Lao</td>\n",
       "    </tr>\n",
       "    <tr>\n",
       "      <th>3</th>\n",
       "      <td>cortexສາຍຕາເບື້ອງຕົ້ນຈະ ຖືກເປີດໃຊ້ງານ.</td>\n",
       "      <td>Lao</td>\n",
       "    </tr>\n",
       "    <tr>\n",
       "      <th>4</th>\n",
       "      <td>ທ່ານຮອງນາຍົກລັດຖະມົນຕີສະເໜີບັນດາອົງການຕິດຕາມກວ...</td>\n",
       "      <td>Lao</td>\n",
       "    </tr>\n",
       "  </tbody>\n",
       "</table>\n",
       "</div>"
      ],
      "text/plain": [
       "                                                text label\n",
       "0                         ສາຍB (ອາຍຸ14 – 17 ປີ ) ,     Lao\n",
       "1                              ສາຍ C (ອາຍຸ18–25ປີ).    Lao\n",
       "2  ໃນເວລາທີ່ພວກເຂົາພົບກັບການວາດພາບທາງເລຂາຄະນິດແບບ...   Lao\n",
       "3            cortexສາຍຕາເບື້ອງຕົ້ນຈະ ຖືກເປີດໃຊ້ງານ.    Lao\n",
       "4  ທ່ານຮອງນາຍົກລັດຖະມົນຕີສະເໜີບັນດາອົງການຕິດຕາມກວ...   Lao"
      ]
     },
     "execution_count": 2,
     "metadata": {},
     "output_type": "execute_result"
    }
   ],
   "source": [
    "# Load Lao sentences from file\n",
    "with open(\"laosdata.txt\", \"r\", encoding=\"utf-8\") as f:\n",
    "    lao_sentences = f.read().splitlines()\n",
    "\n",
    "# Load Vietnamese sentences from file\n",
    "viet_sentences = []\n",
    "with open(\"vietdata.txt\", \"r\", encoding=\"utf-8\") as f:\n",
    "    for line in f:\n",
    "        line = line.strip()\n",
    "        if line and not line.startswith(\"{\") and not line.startswith(\"#\"):\n",
    "            viet_sentences.append(line)\n",
    "\n",
    "# Assign labels for each datasets\n",
    "df_lao = pd.DataFrame({\"text\": lao_sentences, \"label\": \"Lao\"})\n",
    "df_viet = pd.DataFrame({\"text\": viet_sentences, \"label\": \"Vie\"})\n",
    "\n",
    "# Merge into one dataset and save to csv\n",
    "df = pd.concat([df_lao, df_viet], ignore_index=True)\n",
    "df.to_csv(\"viet_lao_dataset.csv\", index=False, encoding=\"utf-8\")\n",
    "df.head()"
   ]
  },
  {
   "cell_type": "code",
   "execution_count": 3,
   "id": "8f113824",
   "metadata": {},
   "outputs": [],
   "source": [
    "# Split into texts and labels\n",
    "X_text = df[\"text\"]\n",
    "y_labels = df[\"label\"]\n",
    "\n",
    "# Convert characters to n-gram vectors\n",
    "vectorizer = CountVectorizer(analyzer=\"char\", ngram_range=(2, 5), min_df=2)\n",
    "X = vectorizer.fit_transform(X_text)\n",
    "\n",
    "# Encode labels into numeric values\n",
    "encoder = LabelEncoder()\n",
    "y = encoder.fit_transform(y_labels)\n",
    "\n",
    "# Split into training and testing sets\n",
    "X_train, X_test, y_train, y_test = train_test_split(\n",
    "    X, y, test_size=0.2, stratify=y, random_state=42\n",
    ")"
   ]
  },
  {
   "cell_type": "code",
   "execution_count": 4,
   "id": "abd69b98",
   "metadata": {},
   "outputs": [],
   "source": [
    "# Convert training features and labels to PyTorch tensor\n",
    "X_train_tensor = torch.tensor(X_train.toarray(), dtype=torch.float32)\n",
    "y_train_tensor = torch.tensor(y_train, dtype=torch.long)\n",
    "\n",
    "# Convert test features and labels to PyTorch tensor\n",
    "X_test_tensor = torch.tensor(X_test.toarray(), dtype=torch.float32)\n",
    "y_test_tensor = torch.tensor(y_test, dtype=torch.long)\n",
    "\n",
    "# Create a TensorDataset and a DataLoader\n",
    "train_ds = TensorDataset(X_train_tensor, y_train_tensor)\n",
    "train_dl = DataLoader(train_ds, batch_size=32, shuffle=True)"
   ]
  },
  {
   "cell_type": "code",
   "execution_count": 5,
   "id": "f8335fbe",
   "metadata": {},
   "outputs": [],
   "source": [
    "# Define a 2-layer neural network\n",
    "class LangDetector(nn.Module):\n",
    "    def __init__(self, input_dim, hidden_dim=100, output_dim=2):\n",
    "        super(LangDetector, self).__init__()\n",
    "        self.fc1 = nn.Linear(input_dim, hidden_dim)\n",
    "        self.relu = nn.ReLU()\n",
    "        self.fc2 = nn.Linear(hidden_dim, output_dim)\n",
    "    def forward(self, x):\n",
    "        return self.fc2(self.relu(self.fc1(x)))\n",
    "\n",
    "# Initialize model, loss function, and optimizer\n",
    "model = LangDetector(input_dim=X_train.shape[1], hidden_dim=100, output_dim=2)\n",
    "criterion = nn.CrossEntropyLoss()\n",
    "optimizer = optim.Adam(model.parameters(), lr=0.01)\n",
    "\n",
    "# Training loop\n",
    "for epoch in range(10):\n",
    "    for xb, yb in train_dl:\n",
    "        optimizer.zero_grad()\n",
    "        preds = model(xb)\n",
    "        loss = criterion(preds, yb)\n",
    "        loss.backward()\n",
    "        optimizer.step()"
   ]
  },
  {
   "cell_type": "code",
   "execution_count": 6,
   "id": "bd80c067",
   "metadata": {},
   "outputs": [
    {
     "name": "stdout",
     "output_type": "stream",
     "text": [
      "Test Accuracy: 0.9993190169334412\n"
     ]
    }
   ],
   "source": [
    "# Evaluate model on test set\n",
    "with torch.no_grad():                       \n",
    "    preds = model(X_test_tensor)            \n",
    "    predicted = torch.argmax(preds, dim=1)  \n",
    "    acc = (predicted == y_test_tensor).float().mean()  \n",
    "    print(\"Test Accuracy:\", acc.item())"
   ]
  },
  {
   "cell_type": "code",
   "execution_count": 10,
   "id": "595321bc",
   "metadata": {},
   "outputs": [
    {
     "name": "stdout",
     "output_type": "stream",
     "text": [
      "\n",
      "Classification Report:\n",
      "              precision    recall  f1-score   support\n",
      "\n",
      "         Lao     0.9987    1.0000    0.9993      1500\n",
      "         Vie     1.0000    0.9986    0.9993      1437\n",
      "\n",
      "    accuracy                         0.9993      2937\n",
      "   macro avg     0.9993    0.9993    0.9993      2937\n",
      "weighted avg     0.9993    0.9993    0.9993      2937\n",
      "\n"
     ]
    }
   ],
   "source": [
    "# Chuyển tensor sang numpy\n",
    "y_true = y_test_tensor.numpy()\n",
    "y_pred = predicted.numpy()\n",
    "\n",
    "# In precision, recall, F1-score cho từng lớp\n",
    "print(\"\\nClassification Report:\")\n",
    "print(classification_report(y_true, y_pred, target_names=encoder.classes_, digits=4))\n"
   ]
  },
  {
   "cell_type": "code",
   "execution_count": null,
   "id": "e78e8a75",
   "metadata": {},
   "outputs": [
    {
     "name": "stdout",
     "output_type": "stream",
     "text": [
      "\n",
      "Input: Máy tính cao như con chó\n",
      "Lao: 0.00%\n",
      "Vie: 100.00%\n",
      "\n",
      "Input: ເຈົ້າກິນເຂົ້າແລ້ວບໍ?\n",
      "Lao: 100.00%\n",
      "Vie: 0.00%\n",
      "\n",
      "Input: Kết bạn trên Facebook đi, Charles\n",
      "Lao: 0.00%\n",
      "Vie: 100.00%\n",
      "\n",
      "Input: ໃຫ້ຂ້ອຍສັ່ງ n2 Timmy\n",
      "Lao: 100.00%\n",
      "Vie: 0.00%\n",
      "\n",
      "Input: Gọi 113 đi Đoàn ơi\n",
      "Lao: 0.00%\n",
      "Vie: 100.00%\n",
      "\n",
      "Input: ຂອບໃຈຫຼາຍໆ\n",
      "Lao: 100.00%\n",
      "Vie: 0.00%\n"
     ]
    }
   ],
   "source": [
    "# Example sentences to test\n",
    "test_sentences = [\n",
    "    \"Máy tính cao như con chó\", # Vietnamese\n",
    "    \"ເຈົ້າກິນເຂົ້າແລ້ວບໍ?\", # Lao\n",
    "    \"Kết bạn trên Facebook đi, Charles\", # Vietnamese\n",
    "    \"ໃຫ້ຂ້ອຍສັ່ງ n2 Timmy\", # Lao\n",
    "    \"Gọi 113 đi Đoàn ơi\", #Vietnamese\n",
    "    \"ຂອບໃຈຫຼາຍໆ\", # Lao\n",
    "]\n",
    "\n",
    "# Predict probabilities for Lao/Vietnamese\n",
    "def predict_language(text, model, vectorizer, encoder):\n",
    "    X_input = vectorizer.transform([text])\n",
    "    X_tensor = torch.tensor(X_input.toarray(), dtype=torch.float32)\n",
    "    with torch.no_grad():\n",
    "        logits = model(X_tensor)\n",
    "        probs = F.softmax(logits, dim=1).numpy()[0]\n",
    "    labels = encoder.classes_\n",
    "    return {labels[i]: float(probs[i]) for i in range(len(labels))}\n",
    "\n",
    "# Run predictions on test sentences\n",
    "for sentence in test_sentences:\n",
    "    probs = predict_language(sentence, model, vectorizer, encoder)\n",
    "    print(f\"\\nInput: {sentence}\")\n",
    "    for lang, p in probs.items():\n",
    "        print(f\"{lang}: {p*100:.2f}%\")"
   ]
  }
 ],
 "metadata": {
  "kernelspec": {
   "display_name": "Python 3",
   "language": "python",
   "name": "python3"
  },
  "language_info": {
   "codemirror_mode": {
    "name": "ipython",
    "version": 3
   },
   "file_extension": ".py",
   "mimetype": "text/x-python",
   "name": "python",
   "nbconvert_exporter": "python",
   "pygments_lexer": "ipython3",
   "version": "3.13.5"
  }
 },
 "nbformat": 4,
 "nbformat_minor": 5
}
